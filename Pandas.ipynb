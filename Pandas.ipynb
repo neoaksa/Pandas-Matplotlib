{
  "nbformat": 4,
  "nbformat_minor": 0,
  "metadata": {
    "colab": {
      "name": "Pandas.ipynb",
      "version": "0.3.2",
      "provenance": [],
      "collapsed_sections": [],
      "include_colab_link": true
    },
    "kernelspec": {
      "name": "python3",
      "display_name": "Python 3"
    }
  },
  "cells": [
    {
      "cell_type": "markdown",
      "metadata": {
        "id": "view-in-github",
        "colab_type": "text"
      },
      "source": [
        "[View in Colaboratory](https://colab.research.google.com/github/neoaksa/Pandas-Matplotlib/blob/master/Pandas.ipynb)"
      ]
    },
    {
      "metadata": {
        "id": "EPGjnxIxI2CU",
        "colab_type": "text"
      },
      "cell_type": "markdown",
      "source": [
        "**Process of data manipulation:**\n",
        "\n",
        "\n",
        "1.   Ideation\n",
        "2.   retrieval\n",
        "3.   preperation\n",
        "    * integrate data\n",
        "    * aggreation\n",
        "    * missing or incorrect\n",
        "    * format diffence\n",
        "4.   exploration\n",
        "    * distributed\n",
        "    * outliers\n",
        "    * quick visualization\n",
        "    * quick models\n",
        "    * feature relationship\n",
        "5.   model\n",
        "6.   presentation\n",
        "7.   reproduction\n",
        "\n"
      ]
    },
    {
      "metadata": {
        "id": "fNx_J_K3IvSQ",
        "colab_type": "code",
        "colab": {
          "base_uri": "https://localhost:8080/",
          "height": 166
        },
        "outputId": "42ec4616-96f7-4837-a29d-089d0a82557d"
      },
      "cell_type": "code",
      "source": [
        "import pandas as pd\n",
        "# series is like np.arry, but it has index\n",
        "s1 = pd.Series([1,2,3],index =['a','b','c'])\n",
        "s1"
      ],
      "execution_count": 3,
      "outputs": [
        {
          "output_type": "stream",
          "text": [
            "<bound method Series.mean of a    1\n",
            "b    2\n",
            "c    3\n",
            "dtype: int64>\n"
          ],
          "name": "stdout"
        },
        {
          "output_type": "execute_result",
          "data": {
            "text/plain": [
              "a    1\n",
              "b    2\n",
              "c    3\n",
              "dtype: int64"
            ]
          },
          "metadata": {
            "tags": []
          },
          "execution_count": 3
        }
      ]
    }
  ]
}