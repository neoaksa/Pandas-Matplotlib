{
  "nbformat": 4,
  "nbformat_minor": 0,
  "metadata": {
    "colab": {
      "name": "Pandas.ipynb",
      "version": "0.3.2",
      "provenance": [],
      "collapsed_sections": [],
      "include_colab_link": true
    },
    "kernelspec": {
      "name": "python3",
      "display_name": "Python 3"
    }
  },
  "cells": [
    {
      "cell_type": "markdown",
      "metadata": {
        "id": "view-in-github",
        "colab_type": "text"
      },
      "source": [
        "[View in Colaboratory](https://colab.research.google.com/github/neoaksa/Pandas-Matplotlib/blob/master/Pandas.ipynb)"
      ]
    },
    {
      "metadata": {
        "id": "EPGjnxIxI2CU",
        "colab_type": "text"
      },
      "cell_type": "markdown",
      "source": [
        "**Process of data manipulation:**\n",
        "\n",
        "\n",
        "1.   Ideation\n",
        "2.   retrieval\n",
        "3.   preperation\n",
        "    * integrate data\n",
        "    * aggreation\n",
        "    * missing or incorrect\n",
        "    * format diffence\n",
        "4.   exploration\n",
        "    * distributed\n",
        "    * outliers\n",
        "    * quick visualization\n",
        "    * quick models\n",
        "    * feature relationship\n",
        "5.   model\n",
        "6.   presentation\n",
        "7.   reproduction\n",
        "\n"
      ]
    },
    {
      "metadata": {
        "id": "fNx_J_K3IvSQ",
        "colab_type": "code",
        "colab": {
          "base_uri": "https://localhost:8080/",
          "height": 166
        },
        "outputId": "42ec4616-96f7-4837-a29d-089d0a82557d"
      },
      "cell_type": "code",
      "source": [
        "import pandas as pd\n",
        "# series is like np.arry, but it has index\n",
        "s1 = pd.Series([1,2,3],index =['a','b','c'])\n",
        "s1"
      ],
      "execution_count": 3,
      "outputs": [
        {
          "output_type": "stream",
          "text": [
            "<bound method Series.mean of a    1\n",
            "b    2\n",
            "c    3\n",
            "dtype: int64>\n"
          ],
          "name": "stdout"
        },
        {
          "output_type": "execute_result",
          "data": {
            "text/plain": [
              "a    1\n",
              "b    2\n",
              "c    3\n",
              "dtype: int64"
            ]
          },
          "metadata": {
            "tags": []
          },
          "execution_count": 3
        }
      ]
    },
    {
      "metadata": {
        "id": "FGnEJqbwkJWf",
        "colab_type": "text"
      },
      "cell_type": "markdown",
      "source": [
        "Pandas can access lots of file formats, incuding CSV, Json, excel, Html,h5 or connect to SQL:\n",
        "\n",
        "\n",
        "*   pd.read_csv('filename.csv', index_col=0,dtype={'col:np.float64'}, name=[...],usecols=[....],skiprows=[...],skpfooter=n, header=0)\n",
        "*   df.to_csv\n",
        "*   pd.read_excel()\n",
        "*   pd.read_jason\n",
        "*   pd.read_html\n",
        "*   pd.HDFStore\n",
        "*   df.read_sql('sql',connect,index=[...])\n"
      ]
    },
    {
      "metadata": {
        "id": "n83J36kvL-pn",
        "colab_type": "code",
        "colab": {
          "base_uri": "https://localhost:8080/",
          "height": 175
        },
        "outputId": "7f652f76-2335-480d-8d4a-38c5b4521d9e"
      },
      "cell_type": "code",
      "source": [
        "# dataframe is like table in SQL\n",
        "df1 = pd.read_csv('http://samplecsvs.s3.amazonaws.com/Sacramentorealestatetransactions.csv',\n",
        "                 index_col=['latitude','longitude'])\n",
        "# rename columns\n",
        "df1.rename(columns={'street':'str'},inplace=True)\n",
        "# search data\n",
        "df1.loc[:,['str']] # get col street\n",
        "df1.iloc[0:3]  # retrive top 3 row\n",
        "selection = df1.price >60000\n",
        "df1[selection].head(3) # select price more than 60000"
      ],
      "execution_count": 65,
      "outputs": [
        {
          "output_type": "execute_result",
          "data": {
            "text/html": [
              "<div>\n",
              "<style scoped>\n",
              "    .dataframe tbody tr th:only-of-type {\n",
              "        vertical-align: middle;\n",
              "    }\n",
              "\n",
              "    .dataframe tbody tr th {\n",
              "        vertical-align: top;\n",
              "    }\n",
              "\n",
              "    .dataframe thead th {\n",
              "        text-align: right;\n",
              "    }\n",
              "</style>\n",
              "<table border=\"1\" class=\"dataframe\">\n",
              "  <thead>\n",
              "    <tr style=\"text-align: right;\">\n",
              "      <th></th>\n",
              "      <th></th>\n",
              "      <th>str</th>\n",
              "      <th>city</th>\n",
              "      <th>zip</th>\n",
              "      <th>state</th>\n",
              "      <th>beds</th>\n",
              "      <th>baths</th>\n",
              "      <th>sq__ft</th>\n",
              "      <th>type</th>\n",
              "      <th>sale_date</th>\n",
              "      <th>price</th>\n",
              "    </tr>\n",
              "    <tr>\n",
              "      <th>latitude</th>\n",
              "      <th>longitude</th>\n",
              "      <th></th>\n",
              "      <th></th>\n",
              "      <th></th>\n",
              "      <th></th>\n",
              "      <th></th>\n",
              "      <th></th>\n",
              "      <th></th>\n",
              "      <th></th>\n",
              "      <th></th>\n",
              "      <th></th>\n",
              "    </tr>\n",
              "  </thead>\n",
              "  <tbody>\n",
              "    <tr>\n",
              "      <th>38.478902</th>\n",
              "      <th>-121.431028</th>\n",
              "      <td>51 OMAHA CT</td>\n",
              "      <td>SACRAMENTO</td>\n",
              "      <td>95823</td>\n",
              "      <td>CA</td>\n",
              "      <td>3</td>\n",
              "      <td>1</td>\n",
              "      <td>1167</td>\n",
              "      <td>Residential</td>\n",
              "      <td>Wed May 21 00:00:00 EDT 2008</td>\n",
              "      <td>68212</td>\n",
              "    </tr>\n",
              "    <tr>\n",
              "      <th>38.618305</th>\n",
              "      <th>-121.443839</th>\n",
              "      <td>2796 BRANCH ST</td>\n",
              "      <td>SACRAMENTO</td>\n",
              "      <td>95815</td>\n",
              "      <td>CA</td>\n",
              "      <td>2</td>\n",
              "      <td>1</td>\n",
              "      <td>796</td>\n",
              "      <td>Residential</td>\n",
              "      <td>Wed May 21 00:00:00 EDT 2008</td>\n",
              "      <td>68880</td>\n",
              "    </tr>\n",
              "    <tr>\n",
              "      <th>38.616835</th>\n",
              "      <th>-121.439146</th>\n",
              "      <td>2805 JANETTE WAY</td>\n",
              "      <td>SACRAMENTO</td>\n",
              "      <td>95815</td>\n",
              "      <td>CA</td>\n",
              "      <td>2</td>\n",
              "      <td>1</td>\n",
              "      <td>852</td>\n",
              "      <td>Residential</td>\n",
              "      <td>Wed May 21 00:00:00 EDT 2008</td>\n",
              "      <td>69307</td>\n",
              "    </tr>\n",
              "  </tbody>\n",
              "</table>\n",
              "</div>"
            ],
            "text/plain": [
              "                                    str        city    zip state  beds  baths  \\\n",
              "latitude  longitude                                                             \n",
              "38.478902 -121.431028       51 OMAHA CT  SACRAMENTO  95823    CA     3      1   \n",
              "38.618305 -121.443839    2796 BRANCH ST  SACRAMENTO  95815    CA     2      1   \n",
              "38.616835 -121.439146  2805 JANETTE WAY  SACRAMENTO  95815    CA     2      1   \n",
              "\n",
              "                       sq__ft         type                     sale_date  \\\n",
              "latitude  longitude                                                        \n",
              "38.478902 -121.431028    1167  Residential  Wed May 21 00:00:00 EDT 2008   \n",
              "38.618305 -121.443839     796  Residential  Wed May 21 00:00:00 EDT 2008   \n",
              "38.616835 -121.439146     852  Residential  Wed May 21 00:00:00 EDT 2008   \n",
              "\n",
              "                       price  \n",
              "latitude  longitude           \n",
              "38.478902 -121.431028  68212  \n",
              "38.618305 -121.443839  68880  \n",
              "38.616835 -121.439146  69307  "
            ]
          },
          "metadata": {
            "tags": []
          },
          "execution_count": 65
        }
      ]
    },
    {
      "metadata": {
        "id": "3Ah7PcuWVqK0",
        "colab_type": "text"
      },
      "cell_type": "markdown",
      "source": [
        "*  .loc[]Looks up by the label, not the location. But be careful; if the labels are integers, then integers will be treated as labels!\n",
        "*  .at[]Like .loc[], but this can only retrieve a single value.\n",
        "*  .iloc[]Lookup is based on the 0-based position and not the index label.\n",
        "*  .ix[]Hybrid, which when given an integer will attempt 0-based lookup; other types are label-based. This is going to be deprecated, so stick with the other three properties.\n",
        "\n",
        "\n",
        "\n",
        "\n",
        "\n",
        "\n",
        "\n",
        "\n",
        "\n",
        "\n",
        "\n",
        "\n",
        "\n",
        "\n",
        "\n",
        "\n",
        "\n"
      ]
    },
    {
      "metadata": {
        "id": "vaW7unLvVkWP",
        "colab_type": "code",
        "colab": {
          "base_uri": "https://localhost:8080/",
          "height": 175
        },
        "outputId": "0efc0528-3140-4f72-c3cd-b9a1f1eae680"
      },
      "cell_type": "code",
      "source": [
        "# index\n",
        "df1 = df1.reset_index() # reset index\n",
        "df1.set_index(['latitude','longitude'],inplace=True) # reset index\n",
        "df1.describe()\n",
        "# bin price column\n",
        "df1['price_bin'] = pd.cut(df1['price'],(0,145000,213750,300000,900000),labels=[1,2,3,4])\n",
        "df1['price_bin2'] = pd.qcut(df1['price'],5) # equally bin\n",
        "# unique, nunique \n",
        "df1 = df1.reset_index()\n",
        "df1['state'].unique()  # distinct value\n",
        "df1.sort_values(by=['price'],ascending=False).head(3) # sort value by price"
      ],
      "execution_count": 66,
      "outputs": [
        {
          "output_type": "execute_result",
          "data": {
            "text/html": [
              "<div>\n",
              "<style scoped>\n",
              "    .dataframe tbody tr th:only-of-type {\n",
              "        vertical-align: middle;\n",
              "    }\n",
              "\n",
              "    .dataframe tbody tr th {\n",
              "        vertical-align: top;\n",
              "    }\n",
              "\n",
              "    .dataframe thead th {\n",
              "        text-align: right;\n",
              "    }\n",
              "</style>\n",
              "<table border=\"1\" class=\"dataframe\">\n",
              "  <thead>\n",
              "    <tr style=\"text-align: right;\">\n",
              "      <th></th>\n",
              "      <th></th>\n",
              "      <th>str</th>\n",
              "      <th>city</th>\n",
              "      <th>zip</th>\n",
              "      <th>state</th>\n",
              "      <th>beds</th>\n",
              "      <th>baths</th>\n",
              "      <th>sq__ft</th>\n",
              "      <th>type</th>\n",
              "      <th>sale_date</th>\n",
              "      <th>price</th>\n",
              "    </tr>\n",
              "    <tr>\n",
              "      <th>latitude</th>\n",
              "      <th>longitude</th>\n",
              "      <th></th>\n",
              "      <th></th>\n",
              "      <th></th>\n",
              "      <th></th>\n",
              "      <th></th>\n",
              "      <th></th>\n",
              "      <th></th>\n",
              "      <th></th>\n",
              "      <th></th>\n",
              "      <th></th>\n",
              "    </tr>\n",
              "  </thead>\n",
              "  <tbody>\n",
              "    <tr>\n",
              "      <th>38.415298</th>\n",
              "      <th>-121.194858</th>\n",
              "      <td>9401 BARREL RACER CT</td>\n",
              "      <td>WILTON</td>\n",
              "      <td>95693</td>\n",
              "      <td>CA</td>\n",
              "      <td>4</td>\n",
              "      <td>3</td>\n",
              "      <td>4400</td>\n",
              "      <td>Residential</td>\n",
              "      <td>Fri May 16 00:00:00 EDT 2008</td>\n",
              "      <td>884790</td>\n",
              "    </tr>\n",
              "    <tr>\n",
              "      <th>38.706692</th>\n",
              "      <th>-121.058869</th>\n",
              "      <td>2982 ABERDEEN LN</td>\n",
              "      <td>EL DORADO HILLS</td>\n",
              "      <td>95762</td>\n",
              "      <td>CA</td>\n",
              "      <td>4</td>\n",
              "      <td>3</td>\n",
              "      <td>0</td>\n",
              "      <td>Residential</td>\n",
              "      <td>Fri May 16 00:00:00 EDT 2008</td>\n",
              "      <td>879000</td>\n",
              "    </tr>\n",
              "    <tr>\n",
              "      <th>38.813337</th>\n",
              "      <th>-121.133348</th>\n",
              "      <td>3935 EL MONTE DR</td>\n",
              "      <td>LOOMIS</td>\n",
              "      <td>95650</td>\n",
              "      <td>CA</td>\n",
              "      <td>4</td>\n",
              "      <td>4</td>\n",
              "      <td>1624</td>\n",
              "      <td>Residential</td>\n",
              "      <td>Tue May 20 00:00:00 EDT 2008</td>\n",
              "      <td>839000</td>\n",
              "    </tr>\n",
              "  </tbody>\n",
              "</table>\n",
              "</div>"
            ],
            "text/plain": [
              "                                        str             city    zip state  \\\n",
              "latitude  longitude                                                         \n",
              "38.415298 -121.194858  9401 BARREL RACER CT           WILTON  95693    CA   \n",
              "38.706692 -121.058869      2982 ABERDEEN LN  EL DORADO HILLS  95762    CA   \n",
              "38.813337 -121.133348      3935 EL MONTE DR           LOOMIS  95650    CA   \n",
              "\n",
              "                       beds  baths  sq__ft         type  \\\n",
              "latitude  longitude                                       \n",
              "38.415298 -121.194858     4      3    4400  Residential   \n",
              "38.706692 -121.058869     4      3       0  Residential   \n",
              "38.813337 -121.133348     4      4    1624  Residential   \n",
              "\n",
              "                                          sale_date   price  \n",
              "latitude  longitude                                          \n",
              "38.415298 -121.194858  Fri May 16 00:00:00 EDT 2008  884790  \n",
              "38.706692 -121.058869  Fri May 16 00:00:00 EDT 2008  879000  \n",
              "38.813337 -121.133348  Tue May 20 00:00:00 EDT 2008  839000  "
            ]
          },
          "metadata": {
            "tags": []
          },
          "execution_count": 66
        }
      ]
    },
    {
      "metadata": {
        "id": "9BfX7Cbal_zS",
        "colab_type": "code",
        "colab": {
          "base_uri": "https://localhost:8080/",
          "height": 91
        },
        "outputId": "84601888-0f74-405c-8020-721e56a32335"
      },
      "cell_type": "code",
      "source": [
        "# some simple stats functions\n",
        "import numpy as np\n",
        "df1.iloc[2,3]=np.NaN\n",
        "df1.count()  # won't count NaN\n",
        "df1.isnull().sum() # count NaN\n",
        "df1.describe() # boxplot \n",
        "df1.var()\n",
        "df1.std()\n",
        "df1['price'].cov(df1['sq__ft'])\n",
        "df1.cov() # covericance matrix\n",
        "df1.corr() # corrlation matrix\n",
        "df1['price'].pct_change() # percetage change\n",
        "r = df1['price'].rolling(window=5) # rolling object\n",
        "r.sum().head(2) # sum of rolling 5 records."
      ],
      "execution_count": 96,
      "outputs": [
        {
          "output_type": "execute_result",
          "data": {
            "text/plain": [
              "latitude   longitude  \n",
              "38.631913  -121.434879   NaN\n",
              "38.478902  -121.431028   NaN\n",
              "Name: price, dtype: float64"
            ]
          },
          "metadata": {
            "tags": []
          },
          "execution_count": 96
        }
      ]
    },
    {
      "metadata": {
        "id": "zAjXs2pItrXW",
        "colab_type": "code",
        "colab": {}
      },
      "cell_type": "code",
      "source": [
        "# Tidying data\n",
        "df1.dropna(how='any', axis=0,thresh =5) # drop any na with setting thresh = 5\n",
        "df1.fillna(0) # fill na with zero\n",
        "df1.fillna(df.mean()) # fill na with mean of each column\n",
        "df1.duplicated()\n",
        "df1.replace(np.NaN,'')  # replace Nan with ''\n",
        "df1['price'] = df1['price'].apply(lambda x:(x/1000)) # apply price/1000\n"
      ],
      "execution_count": 0,
      "outputs": []
    },
    {
      "metadata": {
        "id": "GI31PnIMI1al",
        "colab_type": "text"
      },
      "cell_type": "markdown",
      "source": [
        "Pandas can achieve most SQL features:\n",
        "\n",
        "1.  **select** top n [colname] from table \n",
        "\n",
        "     df['colname'].head(n)\n",
        "\n",
        "2.  select top n [col1] from table **where** col2 = 'condition' and col3 > 5 or col4 is  not null\n",
        "\n",
        "     df[(df['col2']=='condition)' & (df['col3']>5) | (df['col4'].notna()) ].head(n)\n",
        "\n",
        "3.  select col1, avg(col2),count(\\*) from table  **group by**  col1,col3\n",
        "\n",
        "     df.groupby(['col1','col3']).agg('col2':np.mean,'col1':np.size)\n",
        "\n",
        "4.  select * from df1 **inner join** df2 on df1.col1 = df2.col1\n",
        "\n",
        "      pd.merge(df1,df2, on = 'col1')\n",
        "\n",
        "      select * from df1 **left outer join** df2 on df1.col1=df2.col2\n",
        "      \n",
        "      pd.merge(df1,df2,on='col1', how='left') # right outter join = right, full join = outer\n",
        "      \n",
        "5.   **Union**\n",
        "      \n",
        "      pd.concat([df1,df2])\n",
        "      \n",
        "      pd.concat([df1,df2]).drop_duplicates\n",
        "      \n",
        "6.  select * from (\n",
        "select t.\\*, **row_number() over(partition** by col1 order by col2 desc) as rn from table t) where rn<3 order by col1,rn\n",
        "  \n",
        "        (df.assign(rn=df.sort_values(['col2'],asceding=False)\n",
        "                            .groupby(['col1'])\n",
        "                            .cumcount()+1)\n",
        "            .QUERY('RN<3')\n",
        "            .SORT_VALUES(['COL1','RN'])\n",
        "        )\n",
        "    \n",
        "      or \n",
        "      \n",
        "    (df.assign(rn=df.groupby(['col1'])['col2'].rank(method='first',ascending=False))\n",
        "            .QUERY('RN<3')\n",
        "            .SORT_VALUES(['COL1','RN'])\n",
        "        )\n",
        "      \n",
        "7.  **update , delete**\n",
        "pandas use  equvlanet to assign new value to a new object\n",
        "     \n",
        "     update table set col1=col\\*2 where col2='condition'\n",
        "     \n",
        "     df.loc[df['col2']=='condition','col1'] \\*=2\n",
        "     \n",
        "     delete from table where col > 'condition'\n",
        "     \n",
        "     dfnew = df.loc[df['col'] <=  condition]\n",
        "     \n",
        "8. Others\n",
        "\n",
        "add new row\n",
        "    \n",
        "    * df.append(row)\n",
        "    \n",
        "pivot and melt\n",
        "\n",
        "    * df.pivot(index='',column='',value='')\n",
        "    * pd.melt(df, id_vars=[],value_vars=[]) # unpivot\n",
        "    \n",
        " stack and unstake\n",
        " \n",
        "\t* df1.stack()  # this will put the column on row\n",
        "\t* df1.unstack(level = 0) # unstack the row into column\n",
        "\n"
      ]
    }
  ]
}